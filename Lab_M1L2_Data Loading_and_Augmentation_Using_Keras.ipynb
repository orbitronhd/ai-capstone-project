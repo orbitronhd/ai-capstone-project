{
 "cells": [
  {
   "cell_type": "markdown",
   "metadata": {},
   "source": [
    "<div style=\"text-align: center;\">\n",
    "  <a href=\"https://cognitiveclass.ai/?utm_medium=Exinfluencer&utm_source=Exinfluencer&utm_content=000026UJ&utm_term=10006555&utm_id=NA-SkillsNetwork-Channel-SkillsNetworkCoursesIBMDeveloperSkillsNetworkDL0321ENSkillsNetwork951-2022-01-01\">\n",
    "    <img src=\"https://cf-courses-data.s3.us.cloud-object-storage.appdomain.cloud/IBMDeveloperSkillsNetwork-DL0321EN-SkillsNetwork/image/IDSN-logo.png\" width=\"400\">\n",
    "  </a>\n",
    "</div>\n",
    "\n"
   ]
  },
  {
   "cell_type": "markdown",
   "metadata": {},
   "source": [
    "<h1 align=left><font size = 6>Data Loading and Augmentation Using Keras</font></h1>\n",
    "\n",
    "<h1 align=left><font size = 5>Building efficient data loaders with Keras</font></h1>\n"
   ]
  },
  {
   "cell_type": "markdown",
   "metadata": {},
   "source": [
    "**Estimated time:** 30 minutes\n"
   ]
  },
  {
   "cell_type": "markdown",
   "metadata": {},
   "source": [
    "<h2>Learning objective</h2>\n",
    "After completing this lab, you'll be able to:\n",
    "\n",
    "- Build and test a custom data generator in Keras for efficient, on-the-fly loading, and preprocessing of image datasets.\n",
    "- Use Keras’s `image_dataset_from_directory` utility to load and preprocess datasets with optimized performance using the `tf.data` API.\n",
    "- Apply image augmentation and performance optimizations such as `.map()`, `.cache()`, and `.prefetch()` to build high-throughput data pipelines.\n",
    "- Compare custom and built-in Keras data loaders in terms of code complexity, flexibility, and runtime efficiency.\n"
   ]
  },
  {
   "cell_type": "markdown",
   "metadata": {},
   "source": [
    "## Introduction\n",
    "\n",
    "In this lab, you'll use two **Keras** functions to build efficient, automated data pipelines: custom data generator and the in-built Keras utility.\n",
    "\n",
    "1.  **Custom data generator:** You'll write a Python generator function to load, preprocess, and yield batches of data on-the-fly. This will help you understand the working of a production-level data generator.\n",
    "2.  **In-built Keras utility:** You will use the highly optimized `tf.keras.utils.image_dataset_from_directory` function, which is the standard, production-ready approach for most image classification tasks.\n",
    "\n",
    "Finally, you will compare these two methods to understand their trade-offs in terms of simplicity, features, and performance.\n",
    "\n",
    "**Note:** You’ll complete hands-on tasks embedded throughout the lab. These tasks are strategically designed to reinforce key concepts and deepen your understanding.\n"
   ]
  },
  {
   "cell_type": "markdown",
   "metadata": {},
   "source": [
    "## Table of contents\n",
    "\n",
    "<font size = 3> \n",
    "    \n",
    "1. [Configure the setup](#Configure-the-setup)\n",
    "3. [What is custom data generator?](#What-is-custom-data-generator?)\n",
    "4. [What is Keras' built-in utility?](#What-is-Keras'-built-in-utility?)\n",
    "5. [Comparison and analysis](#Comparison-and-analysis)\n",
    "\n",
    "</font>\n",
    "    \n",
    "</div>\n"
   ]
  },
  {
   "cell_type": "markdown",
   "metadata": {},
   "source": [
    "### Install required libraries\n",
    "\n",
    "The following required libraries are not preinstalled in the Skills Network Labs environment. __You must run the following cell__ to install them. The installation might take a few minutes.\n"
   ]
  },
  {
   "cell_type": "code",
   "execution_count": 2,
   "metadata": {},
   "outputs": [],
   "source": [
    "%%capture captured_output\n",
    "!pip install numpy==1.26\n",
    "!pip install matplotlib==3.9.2\n",
    "!pip install skillsnetwork\n",
    "!pip install tensorflow==2.19"
   ]
  },
  {
   "cell_type": "markdown",
   "metadata": {},
   "source": [
    "#### Check whether the libraries were installed successfully.\n"
   ]
  },
  {
   "cell_type": "code",
   "execution_count": 4,
   "metadata": {},
   "outputs": [
    {
     "name": "stdout",
     "output_type": "stream",
     "text": [
      "Library installation was successful, let's proceed ahead\n"
     ]
    }
   ],
   "source": [
    "output_text = captured_output.stdout\n",
    "lines = output_text.splitlines()\n",
    "output_last_10_lines = '\\n'.join(lines[-10:])\n",
    "if \"error\" in output_last_10_lines.lower():\n",
    "    print(\"Library installation failed!\")\n",
    "    print(\"--- Error Details ---\")\n",
    "    print(output_last_10_lines)\n",
    "else:\n",
    "    print(\"Library installation was successful, let's proceed ahead\")"
   ]
  },
  {
   "cell_type": "markdown",
   "metadata": {},
   "source": [
    "## Configure the setup\n",
    "\n",
    "First, install and import the necessary libraries.\n"
   ]
  },
  {
   "cell_type": "code",
   "execution_count": 7,
   "metadata": {},
   "outputs": [],
   "source": [
    "import tensorflow as tf\n",
    "import numpy as np\n",
    "import os\n",
    "import matplotlib.pyplot as plt\n",
    "import skillsnetwork"
   ]
  },
  {
   "cell_type": "markdown",
   "metadata": {},
   "source": [
    "## Download data\n",
    " Download and extract data from the cloud.\n",
    " \n",
    " Define the data directories.\n"
   ]
  },
  {
   "cell_type": "code",
   "execution_count": 8,
   "metadata": {},
   "outputs": [
    {
     "data": {
      "application/vnd.jupyter.widget-view+json": {
       "model_id": "69c3d178f531482fbb75eae45680a749",
       "version_major": 2,
       "version_minor": 0
      },
      "text/plain": [
       "Downloading images-dataSAT.tar:   0%|          | 0/20243456 [00:00<?, ?it/s]"
      ]
     },
     "metadata": {},
     "output_type": "display_data"
    },
    {
     "data": {
      "application/vnd.jupyter.widget-view+json": {
       "model_id": "cce847fafe6a4c618bf886f7338f5076",
       "version_major": 2,
       "version_minor": 0
      },
      "text/plain": [
       "  0%|          | 0/6003 [00:00<?, ?it/s]"
      ]
     },
     "metadata": {},
     "output_type": "display_data"
    },
    {
     "name": "stdout",
     "output_type": "stream",
     "text": [
      "Saved to '.'\n"
     ]
    }
   ],
   "source": [
    "url = \"https://cf-courses-data.s3.us.cloud-object-storage.appdomain.cloud/4Z1fwRR295-1O3PMQBH6Dg/images-dataSAT.tar\"\n",
    "\n",
    "extraction_path = \".\"\n",
    "await skillsnetwork.prepare(url = url, path = extraction_path, overwrite = True)"
   ]
  },
  {
   "cell_type": "markdown",
   "metadata": {},
   "source": [
    "Now, you will be able to see the **images_dataSAT** folder in the left pane. It has two folders  **class_0_non_agri** and **class_1_agri**.\n",
    "The folder structure looks as follows:\n",
    "\n",
    "```python\n",
    "images_dataSAT/\n",
    "├── class_0_non_agri/\n",
    "└── class_1_agri/\n",
    "\n",
    "```\n",
    "\n",
    "<table>\n",
    "    <tr>\n",
    "        <td style=\"text-align:center;\"><b>Primary folder</b></td>\n",
    "        <td style=\"text-align:center;\"><b>Subfolders</b></td>\n",
    "    </tr>\n",
    "    <tr>\n",
    "        <td><img src=\"https://cf-courses-data.s3.us.cloud-object-storage.appdomain.cloud/owykkC4Pr2zxLtU6vskQ5A/DL0321EN-M1L1-file-tree-Screenshot-1.png\" style=\"width:300px; border:0px solid black;\"></td>\n",
    "        <td><img src=\"https://cf-courses-data.s3.us.cloud-object-storage.appdomain.cloud/okqnadJpvAeedGUXXYBIFg/DL0321EN-M1L1-file-tree-Screenshot-2.png\" style=\"width:350px; border:0px solid black;\"></td>\n",
    "    </tr>\n",
    "</table>\n",
    "\n",
    "\n",
    "**class_0_non_agri** is the non-agricultural land class, as defined earlier, and it represents images with non-cultivable land. \n",
    "\n",
    "**class_1_agri**, on the other hand, is the agricultural land class, and it represents the images with cultivable land.\n",
    "\n",
    "\n",
    "\n",
    "<table>\n",
    "    <tr>\n",
    "        <td style=\"text-align:center;\"><b>class_0_non_agri</b></td>\n",
    "        <td style=\"text-align:center;\"><b>class_1_agri</b></td>\n",
    "    </tr>\n",
    "    <tr>\n",
    "        <td><img src=\"https://cf-courses-data.s3.us.cloud-object-storage.appdomain.cloud/1jSl6X5tUkVro8I_av8lEQ/DL0321EN-M1L1-file-tree-screenshot-3.png\" style=\"width:300px; border:1px solid black;\"></td>\n",
    "        <td><img src=\"https://cf-courses-data.s3.us.cloud-object-storage.appdomain.cloud/9f7sT5DBeFE_6Mp2OV3JKQ/DL0321EN-M1L1-file-tree-screenshot-4.png\" style=\"width:300px; border:1px solid black;\"></td>\n",
    "    </tr>\n",
    "</table>\n"
   ]
  },
  {
   "cell_type": "code",
   "execution_count": 9,
   "metadata": {},
   "outputs": [],
   "source": [
    "# Define directories\n",
    "base_dir = './images_dataSAT/'\n",
    "# Note: It's common practice for class directories to have clear names.\n",
    "# Using 'class_0' and 'class_1' is good for automatic inference.\n",
    "dir_non_agri = os.path.join(base_dir, 'class_0_non_agri')\n",
    "dir_agri = os.path.join(base_dir, 'class_1_agri')"
   ]
  },
  {
   "cell_type": "markdown",
   "metadata": {},
   "source": [
    "### **Task 1:** Create the list \"**all_image_paths**\" containing paths of all files for both folders, *class_0_non_agri* and *class_1_agri*, in the base directory.\n",
    "For  non_agri images, assign label \"0\" and assign label \"1\" for each image in the agri folder.\n",
    "\n"
   ]
  },
  {
   "cell_type": "code",
   "execution_count": 10,
   "metadata": {},
   "outputs": [],
   "source": [
    "all_image_paths = []\n",
    "all_labels = []\n",
    "label_non_agri = 0\n",
    "label_agri = 1\n",
    "\n",
    "for fname in os.listdir(dir_non_agri):\n",
    "    all_image_paths.append(os.path.join(dir_non_agri, fname))\n",
    "    all_labels.append(label_non_agri)\n",
    "\n",
    "for fname in os.listdir(dir_agri):\n",
    "    all_image_paths.append(os.path.join(dir_agri, fname))\n",
    "    all_labels.append(label_agri)"
   ]
  },
  {
   "cell_type": "markdown",
   "metadata": {},
   "source": [
    "Double-click **here** for the solution.\n",
    "<!-- The correct answer is:\n",
    "\n",
    "# Initialize empty lists to store paths and labels\n",
    "all_image_paths = []\n",
    "all_labels = []\n",
    "\n",
    "# define the labels for each class\n",
    "label_non_agri = 0\n",
    "label_agri = 1\n",
    "\n",
    "# populate the lists\n",
    "\n",
    "for fname in os.listdir(dir_non_agri):\n",
    "    all_image_paths.append(os.path.join(dir_non_agri, fname))\n",
    "    all_labels.append(label_non_agri)\n",
    "\n",
    "for fname in os.listdir(dir_agri):\n",
    "    all_image_paths.append(os.path.join(dir_agri, fname))\n",
    "    all_labels.append(label_agri)\n",
    "\n",
    "-->\n"
   ]
  },
  {
   "cell_type": "markdown",
   "metadata": {},
   "source": [
    "### **Task 2:** Create a temporary list \"**temp**\" by binding the image paths and labels using the `zip` function. \n",
    "Then, randomly select and print 5 image paths and their corresponding labels.\n"
   ]
  },
  {
   "cell_type": "code",
   "execution_count": 11,
   "metadata": {},
   "outputs": [
    {
     "name": "stdout",
     "output_type": "stream",
     "text": [
      "First 5 paths and labels (after shuffling): [('./images_dataSAT/class_1_agri/tile_S2A_MSIL2A_20250427T101701_N0511_R065_T32UPE_20250427T170513.SAFE_12532.jpg', 1), ('./images_dataSAT/class_1_agri/tile_S2A_MSIL2A_20250427T101701_N0511_R065_T32UPE_20250427T170513.SAFE_12151.jpg', 1), ('./images_dataSAT/class_0_non_agri/tile_S2A_MSIL2A_20250427T101701_N0511_R065_T32UPE_20250427T170513.SAFE_0823.jpg', 0), ('./images_dataSAT/class_0_non_agri/tile_S2A_MSIL2A_20250409T105701_N0511_R094_T31UDQ_20250409T173716.SAFE_9139.jpg', 0), ('./images_dataSAT/class_0_non_agri/tile_S2A_MSIL2A_20250427T101701_N0511_R065_T32UPE_20250427T170513.SAFE_10546.jpg', 0)]\n"
     ]
    }
   ],
   "source": [
    "temp = list(zip(all_image_paths, all_labels))\n",
    "np.random.shuffle(temp)\n",
    "all_image_paths, all_labels = zip(*temp)\n",
    "print(\"First 5 paths and labels (after shuffling):\", list(zip(all_image_paths[:5], all_labels[:5])))"
   ]
  },
  {
   "cell_type": "markdown",
   "metadata": {},
   "source": [
    "Double-click **here** for the solution.\n",
    "<!--\n",
    "# Use zip to bind paths and labels, then shuffle this list of pairs\n",
    "temp = list(zip(all_image_paths, all_labels))\n",
    "np.random.shuffle(temp)\n",
    "all_image_paths, all_labels = zip(*temp)\n",
    "\n",
    "print(\"First 5 paths and labels (after shuffling):\", list(zip(all_image_paths[:5], all_labels[:5])))\n",
    "\n",
    "-->\n"
   ]
  },
  {
   "cell_type": "markdown",
   "metadata": {},
   "source": [
    "## What is custom data generator?\n",
    "\n",
    "A custom data generator function uses the `yield` keyword. Unlike a regular function that returns once and terminates, a generator can yield multiple values, pausing its state between each call. This \"lazy evaluation\" is the core principle behind memory-efficient sequential loading. For deep learning, this means we can create a generator that provides one batch of data, waits for the model to train on it, and then resumes to provide the next batch, all without loading the entire dataset into RAM.\n"
   ]
  },
  {
   "cell_type": "markdown",
   "metadata": {},
   "source": [
    "### Create the generator function\n",
    "\n",
    "The `custom_data_generator` function builds an infinite Python generator that supplies mini-batches of images and labels to a Keras model during training. It accepts four arguments: `image_paths`, a list of file locations; `labels`, the corresponding class IDs; `batch_size`, the number of samples per update; and `target_size`, a tuple dictating each image’s resize dimensions. \n",
    "\n",
    "At the start of every epoch, in the code you create an index array equal to the dataset length, **shuffle it with NumPy**, and reorder both paths and labels identically, preserving their pairing while randomizing order. The outer `while True` loop keeps the generator alive for successive epochs. Inside, a `for` loop walks through the shuffled dataset in `batch_size` steps, slicing out `batch_paths` and `batch_labels`. For each path, `tf.keras.utils.load_img` reads the image and rescales it to `target_size`; `img_to_array` converts the PIL image to a float32 NumPy array. These arrays accumulate in `batch_images`. \n",
    "\n",
    "After the inner loop finishes, the batch is transformed into a NumPy array and divided by 255.0, scaling pixel values from 0–255 to 0–1, which speeds convergence and stabilizes gradients. Finally, the generator yields a tuple (`batch_images`, `batch_labels`). It supports easy augmentation and custom preprocessing.\n",
    "\n"
   ]
  },
  {
   "cell_type": "code",
   "execution_count": 12,
   "metadata": {},
   "outputs": [],
   "source": [
    "def custom_data_generator(image_paths, labels, batch_size, target_size=(64, 64)):\n",
    "    \"\"\"A custom data generator to feed a Keras model.\"\"\"\n",
    "    num_samples = len(image_paths)\n",
    "    while True: \n",
    "        # Shuffle data at the beginning of each epoch\n",
    "        indices = np.arange(num_samples)\n",
    "        np.random.shuffle(indices)\n",
    "        shuffled_paths = np.array(image_paths)[indices]\n",
    "        shuffled_labels = np.array(labels)[indices]\n",
    "        \n",
    "        # Generate batch data\n",
    "        for offset in range(0, num_samples, batch_size):\n",
    "            batch_paths = shuffled_paths[offset:offset+batch_size]\n",
    "            batch_labels = shuffled_labels[offset:offset+batch_size]\n",
    "            \n",
    "            # Load and preprocess images from the batch\n",
    "            batch_images = []\n",
    "            for path in batch_paths:\n",
    "                img = tf.keras.utils.load_img(path, target_size=target_size)\n",
    "                img_array = tf.keras.utils.img_to_array(img)\n",
    "                batch_images.append(img_array)\n",
    "            \n",
    "            # Normalize and yield the batch data\n",
    "            yield np.array(batch_images) / 255.0, np.array(batch_labels)"
   ]
  },
  {
   "cell_type": "markdown",
   "metadata": {},
   "source": [
    "### Test and visualize the custom generator\n",
    "Before feeding a generator to a model, it is essential to test it. \n",
    "First you instantiate `custom_data_generator` using `image_paths`, `labels` and `batch_size`, deifning the key dataloading hyperparameters.\n",
    "\n",
    "Next you use `next(my_generator)`to get a batch of data. By calling `next(my_generator)`, you are asking the generator to execute its code until it hits the `yield` statement and to return the yielded values. This allows us to inspect a single batch to verify its shape, data types, and content. Visualizing the images with their corresponding labels, using tools like `matplotlib.pyplot.imshow`, provides a sanity check to ensure that the loading, preprocessing, and labeling logic is correct.\n",
    "You can display the images in two rows and 4 columns using `ax = plt.subplot(2, 4, i + 1)` code.  This ensures optimal use of resources for displaying a sample batch of images with their labels.\n"
   ]
  },
  {
   "cell_type": "markdown",
   "metadata": {},
   "source": [
    "### **Task 3:** Obtain a batch of data, using batch size 8 and the `custom_data_generator` function. \n",
    "Print the batch shape for the image and label the data obtained.\n",
    "Display the images and corresponding labels using `matplotlib.pyplot` library for visual inspection.\n"
   ]
  },
  {
   "cell_type": "code",
   "execution_count": 15,
   "metadata": {},
   "outputs": [
    {
     "name": "stdout",
     "output_type": "stream",
     "text": [
      "Images batch shape: (8, 64, 64, 3)\n",
      "Labels batch shape: (8,)\n"
     ]
    },
    {
     "ename": "NameError",
     "evalue": "name 'BATCH_SIZE' is not defined",
     "output_type": "error",
     "traceback": [
      "\u001b[0;31m---------------------------------------------------------------------------\u001b[0m",
      "\u001b[0;31mNameError\u001b[0m                                 Traceback (most recent call last)",
      "Cell \u001b[0;32mIn[15], line 14\u001b[0m\n\u001b[1;32m     12\u001b[0m \u001b[38;5;66;03m# Display the images in the batch\u001b[39;00m\n\u001b[1;32m     13\u001b[0m plt\u001b[38;5;241m.\u001b[39mfigure(figsize\u001b[38;5;241m=\u001b[39m(\u001b[38;5;241m12\u001b[39m, \u001b[38;5;241m6\u001b[39m))\n\u001b[0;32m---> 14\u001b[0m \u001b[38;5;28;01mfor\u001b[39;00m i \u001b[38;5;129;01min\u001b[39;00m \u001b[38;5;28mrange\u001b[39m(\u001b[43mBATCH_SIZE\u001b[49m):\n\u001b[1;32m     15\u001b[0m     ax \u001b[38;5;241m=\u001b[39m plt\u001b[38;5;241m.\u001b[39msubplot(\u001b[38;5;241m2\u001b[39m, \u001b[38;5;241m4\u001b[39m, i \u001b[38;5;241m+\u001b[39m \u001b[38;5;241m1\u001b[39m)\n\u001b[1;32m     16\u001b[0m     plt\u001b[38;5;241m.\u001b[39mimshow(images[i])\n",
      "\u001b[0;31mNameError\u001b[0m: name 'BATCH_SIZE' is not defined"
     ]
    },
    {
     "data": {
      "text/plain": [
       "<Figure size 1200x600 with 0 Axes>"
      ]
     },
     "metadata": {},
     "output_type": "display_data"
    }
   ],
   "source": [
    "data_generator = custom_data_generator(image_paths = all_image_paths, \n",
    "                                    labels = all_labels, \n",
    "                                    batch_size = 8)\n",
    "\n",
    "# Get one batch data\n",
    "images, labels = next(data_generator)\n",
    "\n",
    "# print batch data statistics\n",
    "print(f\"Images batch shape: {images.shape}\")\n",
    "print(f\"Labels batch shape: {labels.shape}\")\n",
    "\n",
    "# Display the images in the batch\n",
    "plt.figure(figsize=(12, 6))\n",
    "for i in range(BATCH_SIZE):\n",
    "    ax = plt.subplot(2, 4, i + 1)\n",
    "    plt.imshow(images[i])\n",
    "    plt.title(f\"Label: {int(labels[i])}\")\n",
    "    plt.axis(\"off\")"
   ]
  },
  {
   "cell_type": "markdown",
   "metadata": {},
   "source": [
    "Double-click **here** for the solution.\n",
    "<!--\n",
    "data_generator = custom_data_generator(image_paths = all_image_paths, \n",
    "                                    labels = all_labels, \n",
    "                                    batch_size = 8)\n",
    "\n",
    "# Get one batch data\n",
    "images, labels = next(data_generator)\n",
    "\n",
    "# print batch data statistics\n",
    "print(f\"Images batch shape: {images.shape}\")\n",
    "print(f\"Labels batch shape: {labels.shape}\")\n",
    "\n",
    "# Display the images in the batch\n",
    "plt.figure(figsize=(12, 6))\n",
    "for i in range(BATCH_SIZE):\n",
    "    ax = plt.subplot(2, 4, i + 1)\n",
    "    plt.imshow(images[i])\n",
    "    plt.title(f\"Label: {int(labels[i])}\")\n",
    "    plt.axis(\"off\")\n",
    "\n",
    "-->\n"
   ]
  },
  {
   "cell_type": "markdown",
   "metadata": {},
   "source": [
    "## What is Keras' built-in utility?\n",
    "Now, instead of using a custom written data generator function, let's see how the `tf.keras.utils.image_dataset_from_directory` function works. This function is built on top of the highly efficient `tf.data` library, which is TensorFlow's native solution for creating complex and performant input pipelines. This function automatically infers class labels from a standardized directory structure (e.g., `main_dir/class_a/`, `main_dir/class_b/`) and returns a `tf.data.Dataset` object. This object is extremely memory efficient and gives the symbolic representation of a data stream, which can be manipulated and optimized for maximum performance.\n"
   ]
  },
  {
   "cell_type": "markdown",
   "metadata": {},
   "source": [
    "### Create the training data \n",
    "Use the `tf.keras.utils.image_dataset_from_directory` function with image size **64 x 64** pixels and a batch size **8**.\n"
   ]
  },
  {
   "cell_type": "code",
   "execution_count": null,
   "metadata": {},
   "outputs": [],
   "source": [
    "IMAGE_SIZE = (64, 64)\n",
    "BATCH_SIZE = 8\n",
    "\n",
    "# Create a training dataset\n",
    "train_ds = tf.keras.utils.image_dataset_from_directory(\n",
    "    base_dir,\n",
    "    labels='inferred',          # Labels are generated from directory structure\n",
    "    label_mode='int',           # Labels are encoded as integers (0, 1, ...)\n",
    "    validation_split=0.2,       # Reserve 20% of images for validation\n",
    "    subset='training',          # This is the training set\n",
    "    seed=1337,                  # Shuffle seed for reproducible splits\n",
    "    image_size=IMAGE_SIZE,\n",
    "    batch_size=BATCH_SIZE\n",
    ")"
   ]
  },
  {
   "cell_type": "markdown",
   "metadata": {},
   "source": [
    "### **Task 4:** Create validation data using batch size 8. \n",
    "The validation data is created by using the `subset` keyword in the `tf.keras.utils.image_dataset_from_directory` method.\n"
   ]
  },
  {
   "cell_type": "code",
   "execution_count": null,
   "metadata": {},
   "outputs": [],
   "source": [
    "## You can use this cell to type the code to answer the question\n",
    "\n"
   ]
  },
  {
   "cell_type": "markdown",
   "metadata": {},
   "source": [
    "Double-click **here** for the solution.\n",
    "<!--\n",
    "# Create a validation dataset\n",
    "val_ds = tf.keras.utils.image_dataset_from_directory(\n",
    "    base_dir,\n",
    "    labels='inferred',\n",
    "    label_mode='int',\n",
    "    validation_split=0.2,\n",
    "    subset='validation',\n",
    "    seed=1337,\n",
    "    image_size=IMAGE_SIZE,\n",
    "    batch_size=BATCH_SIZE\n",
    ")\n",
    "\n",
    "-->\n"
   ]
  },
  {
   "cell_type": "markdown",
   "metadata": {},
   "source": [
    "### Explore the `tf.data.Dataset` object\n",
    "The `tf.data.Dataset` object is a core component of TensorFlow's data input pipeline. It represents a sequence of elements, where each element is a tuple of (images, labels). It is designed for high-throughput, parallel processing. The `.take(1)` method is used here to fetch a single element (one batch) from this data stream for inspection. Unlike our custom generator, which loaded images as NumPy arrays, this utility loads them as TensorFlow Tensors, which is the native data type for TensorFlow operations.\n"
   ]
  },
  {
   "cell_type": "code",
   "execution_count": null,
   "metadata": {},
   "outputs": [],
   "source": [
    "print(f\"Class names inferred by Keras: {train_ds.class_names}\")\n",
    "\n",
    "# Let's visualize one batch from the training dataset\n",
    "plt.figure(figsize=(10, 10))\n",
    "for images, labels in train_ds.take(1):  # Take one batch\n",
    "    for i in range(BATCH_SIZE):\n",
    "        ax = plt.subplot(3, 3, i + 1)\n",
    "        # Images are loaded as float32, so we convert to uint8 for display\n",
    "        plt.imshow(images[i].numpy().astype(\"uint8\"))\n",
    "        plt.title(train_ds.class_names[labels[i]])\n",
    "        plt.axis(\"off\")"
   ]
  },
  {
   "cell_type": "markdown",
   "metadata": {},
   "source": [
    "### Configure the dataset for performance\n",
    "\n",
    "The dedicated utility, `tf.data.Dataset`, can be chained with various methods to create a highly performant pipeline. \n",
    "- **`.map(function)`:** Applies a given function to every element of the dataset. Here, it is used to apply data augmentation layers. TensorFlow can automatically parallelize this operation.\n",
    "- **`.cache()`:** Caches the dataset in memory after it's loaded from disk during the first epoch. For subsequent epochs, data will be read from the faster memory cache, significantly speeding up training. This is **only feasible if** the dataset fits in RAM.\n",
    "- **`.prefetch(buffer_size)`:** It allows the data preprocessing (done on the CPU) to happen in parallel with the model training (done on the GPU). While the GPU is busy with the current batch, the CPU is already preparing the next batch. This overlapping of tasks prevents the GPU from sitting idle and waiting for data, a phenomenon known as an I/O bottleneck.\n",
    "- **`AUTOTUNE`** lets TensorFlow dynamically decide the optimal buffer size for your computer.\n"
   ]
  },
  {
   "cell_type": "code",
   "execution_count": null,
   "metadata": {},
   "outputs": [],
   "source": [
    "data_augmentation = tf.keras.Sequential([\n",
    "    tf.keras.layers.RandomFlip(\"horizontal_and_vertical\"),\n",
    "    tf.keras.layers.RandomRotation(0.2),\n",
    "])\n",
    "\n",
    "# Apply augmentation to the training dataset using map\n",
    "train_ds = train_ds.map(lambda x, y: (data_augmentation(x, training=True), y))\n",
    "\n",
    "# Configure for performance\n",
    "AUTOTUNE = tf.data.AUTOTUNE\n",
    "\n",
    "train_ds = train_ds.cache().prefetch(buffer_size=AUTOTUNE)\n",
    "val_ds = val_ds.cache().prefetch(buffer_size=AUTOTUNE)\n",
    "\n",
    "print(\"Dataset is now configured for high performance!\")"
   ]
  },
  {
   "cell_type": "markdown",
   "metadata": {},
   "source": [
    "## Comparison and analysis\n",
    "\n",
    "We've now seen two ways to create a data loader in Keras. This comparison highlights the engineering trade-offs between control and convenience.\n"
   ]
  },
  {
   "cell_type": "markdown",
   "metadata": {},
   "source": [
    "| Feature                  | Custom data generator                                       | In-built Keras utility (`image_dataset_from_directory`)     |\n",
    "|--------------------------|-------------------------------------------------------------|-------------------------------------------------------------|\n",
    "| **Ease of use**          | Low. Requires significant boilerplate code for loops, shuffling, and batching. | High. A single, intuitive function call handles everything. |\n",
    "| **Code complexity**      | High. You manually manage file paths, labels, loading, and preprocessing. | Low. The function abstracts away all the complexity.          |\n",
    "| **Flexibility**          | Very high. You can implement any custom logic for loading or non-standard data structures. | Moderate. Designed for a standard directory structure (`class/images`), but very flexible within that. |\n",
    "| **Features**             | Basic. Shuffling, augmentation, and validation splits must be coded manually. | Rich. Built-in shuffling, batching, and validation splits. Seamless integration with Keras preprocessing layers. |\n",
    "| **Performance**          | Poor to moderate. A simple Python generator can become an I/O bottleneck for the GPU due to its single-threaded nature. | Excellent. Creates a `tf.data.Dataset` object, which is highly optimized and can be configured with `.cache()` and `.prefetch()` for maximum throughput. |\n",
    "| **Recommended for**      | Learning purposes or highly specialized, non-standard datasets (e.g., loading from a database or a custom binary format). | **Almost all standard image classification tasks.**         |\n"
   ]
  },
  {
   "cell_type": "markdown",
   "metadata": {},
   "source": [
    "## Save and download the notebook for **final project** submission and evaluation\n",
    "\n",
    "You will need to save and download the completed notebook for final project submission and evaluation. \n",
    "<br>For saving and downloading the completed ntoebook, please follow the steps given below:</br>\n",
    "\n",
    "<font size = 4>  \n",
    "\n",
    "1) **Complete** all the tasks and questions given in the notebook.\n",
    "\n",
    "<img src=\"https://cf-courses-data.s3.us.cloud-object-storage.appdomain.cloud/nv4jHlPU5_R1q7ZJrZ69eg/DL0321EN-M1L1-Save-IPYNB-Screenshot-1.png\" style=\"width:600px; border:0px solid black;\">\n",
    "\n",
    "2) **Save** the notebook.</style>\n",
    "<img src=\"https://cf-courses-data.s3.us.cloud-object-storage.appdomain.cloud/9-WPWD4mW1d-RV5Il5otTg/DL0321EN-M1L1-Save-IPYNB-Screenshot-2.png\" style=\"width:600px; border:0px solid black;\">\n",
    "\n",
    "3) Identify and right click on the **correct notebook file** in the left pane.</style>\n",
    "<img src=\"https://cf-courses-data.s3.us.cloud-object-storage.appdomain.cloud/RUSRPw7NT6Sof94B7-9naQ/DL0321EN-M1L1-Save-IPYNB-Screenshot-3.png\" style=\"width:600px; border:0px solid black;\">\n",
    "\n",
    "4) Click on **Download**.</style>\n",
    "<img src=\"https://cf-courses-data.s3.us.cloud-object-storage.appdomain.cloud/HHry4GT-vhLEcRi1T_LHGg/DL0321EN-M1L1-Save-IPYNB-Screenshot-4.png\" style=\"width:600px; border:0px solid black;\">\n",
    "\n",
    "5) Download and **Save** the Jupyter notebook file on your computer **for final submission**.</style>\n",
    "<img src=\"https://cf-courses-data.s3.us.cloud-object-storage.appdomain.cloud/hhsJbxc6R-T8_pXQGjMjvg/DL0321EN-M1L1-Save-IPYNB-Screenshot-5.png\" style=\"width:600px; border:0px solid black;\">\n",
    "  </font>\n"
   ]
  },
  {
   "cell_type": "markdown",
   "metadata": {},
   "source": [
    "### Summary\n",
    "\n",
    "In this lab, you built a custom data generator as an exercise to understand the principles of on-the-fly data processing. You tested the Keras in-built utilities, which are the preferred choice for real-world projects over custom-written data generators.\n",
    "\n",
    "You learned that the `tf.keras.utils.image_dataset_from_directory` function provides a simple and more performant solution. Leveraging the power of `tf.data` ensures your data pipeline can keep up with modern hardware, preventing data loading from becoming a bottleneck during model training.\n"
   ]
  },
  {
   "cell_type": "markdown",
   "metadata": {},
   "source": [
    "### Thank you for completing this lab!\n",
    "\n",
    "You are now equipped with the standard, production-ready method for loading image data in Keras!\n",
    "This notebook is part of a course on **Coursera** called *AI Capstone Project with Deep Learning*.\n"
   ]
  },
  {
   "cell_type": "markdown",
   "metadata": {},
   "source": [
    "<!-- Change log\n",
    "## Change log\n",
    "\n",
    "|  Date (YYYY-MM-DD) |  Version | Changed By  |  Change Description |\n",
    "|---|---|---|---|\n",
    "| 2025-06-16  | 1.0  | Aman  |  Created the lab |\n",
    "\n",
    "--!>\n"
   ]
  },
  {
   "cell_type": "markdown",
   "metadata": {},
   "source": [
    "<h2>Author</h2>\n",
    "\n",
    "[Aman Aggarwal](https://www.linkedin.com/in/aggarwal-aman)\n",
    "\n",
    "Aman Aggarwal is a PhD working at the intersection of neuroscience, AI, and drug discovery. He specializes in quantitative microscopy and image processing.\n"
   ]
  },
  {
   "cell_type": "markdown",
   "metadata": {},
   "source": [
    "\n",
    "<!-- This is a comment in HTML ## Change log\n",
    "\n",
    "|  Date (YYYY-MM-DD) |  Version | Changed By  |  Change Description |\n",
    "|---|---|---|---|\n",
    "| 2025-06-11  | 1.0  | Aman  |  Created the lab |\n",
    "| 2025-06-30  | 2.0  | Gagandeeep |  ID review |\n",
    "-->\n"
   ]
  },
  {
   "cell_type": "markdown",
   "metadata": {},
   "source": [
    "© Copyright IBM Corporation. All rights reserved.\n"
   ]
  }
 ],
 "metadata": {
  "kernelspec": {
   "display_name": "Python 3 (ipykernel)",
   "language": "python",
   "name": "python3"
  },
  "language_info": {
   "codemirror_mode": {
    "name": "ipython",
    "version": 3
   },
   "file_extension": ".py",
   "mimetype": "text/x-python",
   "name": "python",
   "nbconvert_exporter": "python",
   "pygments_lexer": "ipython3",
   "version": "3.12.8"
  },
  "prev_pub_hash": "eb9db0046f8c1d1c30bc40e31d64207fff9fce0a407155262a8895b8685d7f28"
 },
 "nbformat": 4,
 "nbformat_minor": 4
}
